{
 "cells": [
  {
   "cell_type": "code",
   "execution_count": null,
   "metadata": {
    "collapsed": true
   },
   "outputs": [],
   "source": [
    "import os, gc\n",
    "import datetime\n",
    "import pandas as pd\n",
    "import numpy as np\n",
    "from sklearn.cluster import KMeans\n",
    "from sklearn.decomposition import PCA\n",
    "from sklearn import preprocessing as pre\n",
    "from sklearn.linear_model import LogisticRegression\n",
    "\n",
    "\n",
    "path = os.path.join(\"C:\\\\Users\\\\Shawnr\\\\Documents\\\\Python scripts\\\\PBI and ML\", \"Online Retail.xlsx\")\n",
    "rd= pd.read_excel(path)\n",
    "\n",
    "rd = rd[(rd.CustomerID.isnull()==False)&(rd.Description.isnull()==False)]\n",
    "rd = rd[rd.Country==\"United Kingdom\"].reset_index(drop=True)\n",
    "\n",
    "rd.drop([\"Country\", \"Description\"], axis=1, inplace=True)\n",
    "\n",
    "rd.CustomerID = rd.CustomerID.astype(int)\n",
    "\n",
    "rd[\"Amount\"] =rd.Quantity*rd.UnitPrice\n",
    "rd.drop([\"Quantity\", \"UnitPrice\"], axis=1, inplace=True)\n",
    "\n",
    "rd[\"Date\"] = rd.InvoiceDate.dt.date\n",
    "rd[\"Time\"] = rd.InvoiceDate.dt.time\n",
    "rd.drop(\"InvoiceDate\", axis=1, inplace=True)\n",
    "\n",
    "now = rd.Date.max() + datetime.timedelta(days=1)\n",
    "dt_by_cust = rd[[\"CustomerID\", \"Date\"]].groupby(\"CustomerID\")\n",
    "recency = (now - dt_by_cust.max()).Date.apply(lambda d:d.days) \n",
    "\n",
    "\n",
    "freq = rd[[\"CustomerID\", \"InvoiceNo\"]].groupby(\"CustomerID\").apply(lambda x:len(x[\"InvoiceNo\"].unique()))\n",
    "mon = rd[[\"CustomerID\", \"Amount\"]].groupby(\"CustomerID\").sum()\n",
    "\n",
    "rfm = pd.concat([recency, freq, mon], axis=1)\n",
    "rfm.columns=[\"Recency\", \"Frequency\", \"Monetary\"]\n",
    "\n",
    "am_by_cust = rd[[\"CustomerID\", \"Amount\"]].groupby(\"CustomerID\")\n",
    "\n",
    "rfm = pd.concat([recency, freq, mon], axis=1)\n",
    "rfm.columns=[\"Recency\", \"Frequency\", \"Monetary\"]\n",
    "\n",
    "rfm = rfm[rfm.isnull()==False]\n",
    "\n",
    "def generate_profile(rfm):\n",
    "    rfm_profile = rfm.describe().transpose()\n",
    "    rfm_profile[\"95%\"] = rfm.quantile(0.95)\n",
    "    rfm_profile[\"5%\"] = rfm.quantile(0.05)\n",
    "    return(rfm_profile)\n",
    "\n",
    "rfm_profile = generate_profile(rfm)\n",
    "for c in rfm_profile.index:\n",
    "    rfm = rfm[rfm[c]>0]  \n",
    "    rfm = rfm[rfm[c]<=rfm_profile.loc[c][\"95%\"]]\n",
    "    rfm = rfm[rfm[c]>=rfm_profile.loc[c][\"5%\"]]\n",
    "\n",
    "rfm[\"Monetary_Log\"] = np.log(rfm.Monetary)\n",
    "rfm[\"Recency_Log\"] = np.log(rfm.Recency)\n",
    "rfm[\"Frequency_Log\"] = np.log(rfm.Frequency)\n",
    "\n",
    "km = KMeans(n_clusters=4)\n",
    "sd = pre.StandardScaler()\n",
    "cols = [\"Recency\", \"Frequency\", \"Monetary\"]\n",
    "rfm_st = sd.fit_transform(rfm[cols].values)\n",
    "pca = PCA(n_components=2)\n",
    "rfm_v = pca.fit_transform(rfm_st)\n",
    "km.fit(rfm_st)\n",
    "\n",
    "rfm[\"Cluster\"] = [\"Cluster_{}\".format(l) for l in km.labels_]\n",
    "\n",
    "rfm[\"pca_1\"] = rfm_v[:,0]\n",
    "rfm[\"pca_2\"] = rfm_v[:,1]\n",
    "\n",
    "rfm.reset_index(inplace=True)\n",
    "\n",
    "\n",
    "dec_lr = LogisticRegression(C=0.8)\n",
    "dec_lr.fit(X=rfm_st, y=rfm[\"Cluster\"].values)\n",
    "\n",
    "lr_coef = pd.DataFrame(data=dec_lr.coef_, \n",
    "                       columns=[[\"Recency\", \"Frequency\", \"Monetary\"]])\n",
    "\n",
    "lr_coef[\"Cluster\"] = [\"Cluster_0\", \"Cluster_1\", \"Cluster_2\", \"Cluster_3\"]"
   ]
  },
  {
   "cell_type": "code",
   "execution_count": 3,
   "metadata": {
    "collapsed": false
   },
   "outputs": [
    {
     "data": {
      "text/plain": [
       "201"
      ]
     },
     "execution_count": 3,
     "metadata": {},
     "output_type": "execute_result"
    }
   ],
   "source": [
    "lr_coef[\"Recency_Score\"] = lr_coef.Recency.rank(ascending=False)\n",
    "lr_coef[\"Frequency_Score\"] = lr_coef.Frequency.rank(ascending=True)\n",
    "lr_coef[\"Monetary_Score\"] = lr_coef.Monetary.rank(ascending=True)\n",
    "lr_coef[\"RFM_Score\"] = lr_coef.Recency_Score + lr_coef.Frequency_Score + lr_coef.Monetary_Score\n",
    "lr_coef[\"RFM_Score_Rank\"] = lr_coef.RFM_Score.rank(ascending=True)\n",
    "del km, sd, rfm_st, mon, freq, recency, dt_by_cust, rd\n",
    "gc.collect()"
   ]
  },
  {
   "cell_type": "code",
   "execution_count": 4,
   "metadata": {
    "collapsed": false
   },
   "outputs": [
    {
     "data": {
      "text/html": [
       "<div>\n",
       "<table border=\"1\" class=\"dataframe\">\n",
       "  <thead>\n",
       "    <tr style=\"text-align: right;\">\n",
       "      <th></th>\n",
       "      <th>Recency</th>\n",
       "      <th>Frequency</th>\n",
       "      <th>Monetary</th>\n",
       "      <th>Cluster</th>\n",
       "      <th>Recency_Score</th>\n",
       "      <th>Frequency_Score</th>\n",
       "      <th>Monetary_Score</th>\n",
       "      <th>RFM_Score</th>\n",
       "      <th>RFM_Score_Rank</th>\n",
       "    </tr>\n",
       "  </thead>\n",
       "  <tbody>\n",
       "    <tr>\n",
       "      <th>0</th>\n",
       "      <td>-0.855642</td>\n",
       "      <td>0.283825</td>\n",
       "      <td>0.314922</td>\n",
       "      <td>Cluster_0</td>\n",
       "      <td>3.0</td>\n",
       "      <td>3.0</td>\n",
       "      <td>3.0</td>\n",
       "      <td>9.0</td>\n",
       "      <td>3.0</td>\n",
       "    </tr>\n",
       "    <tr>\n",
       "      <th>1</th>\n",
       "      <td>-3.789509</td>\n",
       "      <td>-3.637469</td>\n",
       "      <td>-2.949861</td>\n",
       "      <td>Cluster_1</td>\n",
       "      <td>4.0</td>\n",
       "      <td>1.0</td>\n",
       "      <td>1.0</td>\n",
       "      <td>6.0</td>\n",
       "      <td>2.0</td>\n",
       "    </tr>\n",
       "    <tr>\n",
       "      <th>2</th>\n",
       "      <td>6.529839</td>\n",
       "      <td>-0.932483</td>\n",
       "      <td>-1.649654</td>\n",
       "      <td>Cluster_2</td>\n",
       "      <td>1.0</td>\n",
       "      <td>2.0</td>\n",
       "      <td>2.0</td>\n",
       "      <td>5.0</td>\n",
       "      <td>1.0</td>\n",
       "    </tr>\n",
       "    <tr>\n",
       "      <th>3</th>\n",
       "      <td>-0.032099</td>\n",
       "      <td>2.823334</td>\n",
       "      <td>2.798607</td>\n",
       "      <td>Cluster_3</td>\n",
       "      <td>2.0</td>\n",
       "      <td>4.0</td>\n",
       "      <td>4.0</td>\n",
       "      <td>10.0</td>\n",
       "      <td>4.0</td>\n",
       "    </tr>\n",
       "  </tbody>\n",
       "</table>\n",
       "</div>"
      ],
      "text/plain": [
       "    Recency  Frequency  Monetary    Cluster  Recency_Score  Frequency_Score  \\\n",
       "0 -0.855642   0.283825  0.314922  Cluster_0            3.0              3.0   \n",
       "1 -3.789509  -3.637469 -2.949861  Cluster_1            4.0              1.0   \n",
       "2  6.529839  -0.932483 -1.649654  Cluster_2            1.0              2.0   \n",
       "3 -0.032099   2.823334  2.798607  Cluster_3            2.0              4.0   \n",
       "\n",
       "   Monetary_Score  RFM_Score  RFM_Score_Rank  \n",
       "0             3.0        9.0             3.0  \n",
       "1             1.0        6.0             2.0  \n",
       "2             2.0        5.0             1.0  \n",
       "3             4.0       10.0             4.0  "
      ]
     },
     "execution_count": 4,
     "metadata": {},
     "output_type": "execute_result"
    }
   ],
   "source": [
    "lr_coef\n"
   ]
  },
  {
   "cell_type": "code",
   "execution_count": null,
   "metadata": {
    "collapsed": true
   },
   "outputs": [],
   "source": []
  }
 ],
 "metadata": {
  "kernelspec": {
   "display_name": "Python 3",
   "language": "python",
   "name": "python3"
  },
  "language_info": {
   "codemirror_mode": {
    "name": "ipython",
    "version": 3
   },
   "file_extension": ".py",
   "mimetype": "text/x-python",
   "name": "python",
   "nbconvert_exporter": "python",
   "pygments_lexer": "ipython3",
   "version": "3.6.0"
  }
 },
 "nbformat": 4,
 "nbformat_minor": 2
}
